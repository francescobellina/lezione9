{
 "cells": [
  {
   "cell_type": "code",
   "execution_count": null,
   "metadata": {},
   "outputs": [],
   "source": [
    "def exp_pdf (x, tau) :      \n",
    "    '''\n",
    "    the exponential probability density function\n",
    "    '''\n",
    "    if tau == 0. : return 1.\n",
    "    if x < 0. : return 0.   #essendo un esponenziale proteggiamo la funzione da eventuali infiniti\n",
    "    return exp (-1 * x / tau) / tau"
   ]
  },
  {
   "cell_type": "code",
   "execution_count": null,
   "metadata": {},
   "outputs": [],
   "source": [
    "def loglikelihood (theta, pdf, sample) :\n",
    "    '''\n",
    "    the log-likelihood function calculated\n",
    "    for a sample of independent variables idendically distributed \n",
    "    according to their pdf with parameter theta\n",
    "    '''\n",
    "    logL = 0.\n",
    "    for x in sample:\n",
    "      if (pdf (x, theta) > 0.) : logL = logL + log (pdf (x, theta))    \n",
    "    return logL"
   ]
  },
  {
   "cell_type": "markdown",
   "metadata": {},
   "source": [
    "## esercizio 1,  2  e 3\n",
    "# numeripseudorand distribuiti secondo una distr exp"
   ]
  },
  {
   "cell_type": "code",
   "execution_count": 155,
   "metadata": {},
   "outputs": [
    {
     "data": {
      "image/png": "[encoded data removed]",
      "text/plain": [
       "<Figure size 432x288 with 1 Axes>"
      ]
     },
     "metadata": {
      "needs_background": "light"
     },
     "output_type": "display_data"
    }
   ],
   "source": [
    "#Write a program that generates pseudo-random numbers distributed according \n",
    "#to an exponential function and stores them in a list.\n",
    "\n",
    "import numpy as np\n",
    "from myrand import generate_uniform, generate_range\n",
    "import matplotlib.pyplot as plt\n",
    "\n",
    "def exp_pdf (x, tau) :      \n",
    "    '''\n",
    "    the exponential probability density function\n",
    "    '''\n",
    "    if tau == 0. : print(\"\")\n",
    "    #if x < 0. : return 0.   #essendo un esponenziale proteggiamo la funzione da eventuali infiniti\n",
    "    return np.exp (-1 * x / tau) / tau #voglio che restituisca un array MODIFICO exp in un Array\n",
    "\n",
    "def inv_exp (y, tau) :\n",
    "\n",
    "    return -1 * np.log (1-y) / tau #INVERSA della primitiva della funzione expon\n",
    "\n",
    "def main():\n",
    "    \n",
    "    list1= np.array(generate_range(0.0001,1,1000)) #casto una lista in un numpy array per passarlo a exp_pdf\n",
    "    #list1= np.array(generate_uniform(1000))\n",
    "    \n",
    "    t0=1 #mean\n",
    "\n",
    "    a=inv_exp(list1,t0) #salvo in una variabile\n",
    "\n",
    "    \n",
    "    #ora grafichiamo: (es2)\n",
    "\n",
    "    # disegno della funzione\n",
    "    fig, ax = plt.subplots ()\n",
    "    ax.set_title ('Histogram of random numbers', size=14)\n",
    "    ax.set_xlabel('random value')\n",
    "    ax.set_ylabel('events in bin')\n",
    "    ax.hist (a,      # list of numbers distrubuiti esponenzialmente\n",
    "             density= True,\n",
    "             color = 'orange',\n",
    "        \n",
    "            )\n",
    "    #es3: a questo punto plotto la funzione exp_pdf \n",
    "    x=np.linspace(0.1,max(a),1000)\n",
    "    b=exp_pdf(x,t0) #È un plot piatto\n",
    "    plt.plot(x,b)\n",
    "    \n",
    "    plt.show ()\n",
    "\n",
    "\n",
    "if __name__ == \"__main__\":\n",
    "    main ()"
   ]
  },
  {
   "cell_type": "markdown",
   "metadata": {},
   "source": [
    "## Es 4, 5 , 6"
   ]
  },
  {
   "cell_type": "code",
   "execution_count": 172,
   "metadata": {},
   "outputs": [
    {
     "name": "stdout",
     "output_type": "stream",
     "text": [
      "-165.28430302944767\n",
      "\n",
      "\n",
      "[-21.702558930188108, -80.16599752108857, -117.09541517687364, -144.05507584453608, -165.28430302944767, -182.79304007783685, -197.6913804669867, -210.65697403425713, -222.13385317030955]\n",
      "[1, 2, 3, 4, 5, 6, 7, 8, 9]\n"
     ]
    },
    {
     "data": {
      "image/png": "[encoded data removed]",
      "text/plain": [
       "<Figure size 432x288 with 1 Axes>"
      ]
     },
     "metadata": {
      "needs_background": "light"
     },
     "output_type": "display_data"
    }
   ],
   "source": [
    "#Write a function likelihood that calculates the likelihood as the parameter t0 varies, \n",
    "#for a sample of pseudo-random events generated according to the instructions of Exercise 1.\n",
    "#How does the result depend on the number of events in the sample?\n",
    "\n",
    "\n",
    "#Si scriva una funzione loglikelihood che calcoli il logaritmo della verosimiglianza \n",
    "#AL VARIARE DEL PARAMETRO t0, per un campione di eventi pseudo-casuali generati secondo le istruzioni \n",
    "#dell’Esercizio 1.\n",
    "#quanto dipendoto i risultati dal numero degli eventi del campione?\n",
    "\n",
    "import numpy as np\n",
    "from myrand import generate_uniform, generate_range\n",
    "import matplotlib.pyplot as plt\n",
    "\n",
    "def exp_pdf (x, tau) :      \n",
    "    '''\n",
    "    the exponential probability density function\n",
    "    '''\n",
    "    if tau == 0. : print(\"\")\n",
    "    #if x < 0. : return 0.   #essendo un esponenziale proteggiamo la funzione da eventuali infiniti\n",
    "    return np.exp (-1 * x / tau) / tau #voglio che restituisca un array MODIFICO exp in un Array\n",
    "\n",
    "def loglikelihood (theta, pdf, sample) :\n",
    "    '''\n",
    "    the log-likelihood function calculated\n",
    "    for a sample of independent variables idendically distributed \n",
    "    according to their pdf with parameter theta\n",
    "    '''\n",
    "    logL = 0.\n",
    "    for x in sample:\n",
    "        if (pdf (x, theta) > 0.) : logL = logL + np.log (pdf (x, theta))    \n",
    "    return logL\n",
    "\n",
    "\n",
    "\n",
    "\n",
    "def main():\n",
    "    \n",
    "    list1= np.array(generate_range(0,1,100)) \n",
    "    \n",
    "    z=inv_exp(list1, 5)\n",
    "    c=loglikelihood(5, exp_pdf, z)\n",
    "    print(c) #mi aspetto che essendo una sommatoria resituisca un valore.\n",
    "    \n",
    "#es5:\n",
    "#variamo t0 (che è l'unico parametro teta)\n",
    "    print(\"\\n\")\n",
    "    listlike=[]\n",
    "    x=[]\n",
    "    for t0 in range(1,10):\n",
    "    \n",
    "        c=loglikelihood(t0, exp_pdf, z)\n",
    "        listlike.append(c)\n",
    "        x.append(t0)\n",
    "        \n",
    "    print(listlike)\n",
    "    print(x)\n",
    "    plt.plot(x,listlike)\n",
    "    \n",
    "\n",
    "if __name__ == \"__main__\":\n",
    "    main ()"
   ]
  },
  {
   "cell_type": "markdown",
   "metadata": {},
   "source": [
    "# es6"
   ]
  },
  {
   "cell_type": "code",
   "execution_count": 180,
   "metadata": {},
   "outputs": [
    {
     "name": "stdout",
     "output_type": "stream",
     "text": [
      "-164.61431679144133\n",
      "\n",
      "\n",
      "[-396.2686457759601, -527.7850810848906, -663.5343272795282, -776.0755794610803, -917.2269668774115, -1026.1225013753576, -1187.6588844125183, -1300.2284778702708, -1416.4340600419575]\n",
      "[150, 200, 250, 300, 350, 400, 450, 500, 550]\n"
     ]
    },
    {
     "data": {
      "image/png": "[encoded data removed]",
      "text/plain": [
       "<Figure size 432x288 with 1 Axes>"
      ]
     },
     "metadata": {
      "needs_background": "light"
     },
     "output_type": "display_data"
    }
   ],
   "source": [
    "import numpy as np\n",
    "from myrand import generate_uniform, generate_range\n",
    "import matplotlib.pyplot as plt\n",
    "\n",
    "def exp_pdf (x, tau) :      \n",
    "    '''\n",
    "    the exponential probability density function\n",
    "    '''\n",
    "    if tau == 0. : print(\"\")\n",
    "    #if x < 0. : return 0.   #essendo un esponenziale proteggiamo la funzione da eventuali infiniti\n",
    "    return np.exp (-1 * x / tau) / tau #voglio che restituisca un array MODIFICO exp in un Array\n",
    "\n",
    "def loglikelihood (theta, pdf, sample) :\n",
    "    '''\n",
    "    the log-likelihood function calculated\n",
    "    for a sample of independent variables idendically distributed \n",
    "    according to their pdf with parameter theta\n",
    "    '''\n",
    "    logL = 0.\n",
    "    for x in sample:\n",
    "        if (pdf (x, theta) > 0.) : logL = logL + np.log (pdf (x, theta))    \n",
    "    return logL\n",
    "\n",
    "\n",
    "\n",
    "\n",
    "def main():\n",
    "    \n",
    "    list1= np.array(generate_range(0,1,100)) \n",
    "    \n",
    "    z=inv_exp(list1, 5)\n",
    "    c=loglikelihood(5, exp_pdf, z)\n",
    "    print(c) #mi aspetto che essendo una sommatoria resituisca un valore.\n",
    "    \n",
    "\n",
    "        \n",
    "    \n",
    "#es6:Study the behavior of \n",
    "#the SHAPE (plot-it!) of the log-likelihood as a FUNCTION OF THE NUMBER OF EVENTS COMPRISING THE GENERATED SAMPLE\n",
    "\n",
    "#ora lasciamo da parte il variare di t0 e consideriamo il variare del numero di eventi per un t0 fissato.\n",
    "#capiamo quanto varia la funzione likelihood al variare di N numero di eventi in un grafico\n",
    "\n",
    "    print(\"\\n\")\n",
    "    t0=0.5\n",
    "    N=100\n",
    "    \n",
    "    yL=[]\n",
    "    xN=[]\n",
    "    for i in range(1,10):\n",
    "        N=N+50\n",
    "        list1= np.array(generate_range(0.1,10,N))\n",
    "        \n",
    "        L=loglikelihood(5,exp_pdf, list1) \n",
    "        yL.append(L) #array per stampare i valori della likelihood in funzione degli N \n",
    "        xN.append(N)\n",
    "        \n",
    "    print(yL)\n",
    "    print(xN)\n",
    "    plt.plot(xN,yL)# punti likelihood in funzione degli N punti del campione\n",
    "        \n",
    "        \n",
    "if __name__ == \"__main__\":\n",
    "    main ()"
   ]
  },
  {
   "cell_type": "code",
   "execution_count": 183,
   "metadata": {},
   "outputs": [
    {
     "name": "stdout",
     "output_type": "stream",
     "text": [
      "-164.23046005651491\n",
      "\n",
      "\n",
      "[]\n",
      "[550]\n"
     ]
    },
    {
     "ename": "ValueError",
     "evalue": "x and y must have same first dimension, but have shapes (1,) and (0,)",
     "output_type": "error",
     "traceback": [
      "\u001b[0;31m---------------------------------------------------------------------------\u001b[0m",
      "\u001b[0;31mValueError\u001b[0m                                Traceback (most recent call last)",
      "\u001b[0;32m/tmp/ipykernel_6019/625833170.py\u001b[0m in \u001b[0;36m<module>\u001b[0;34m\u001b[0m\n\u001b[1;32m     69\u001b[0m \u001b[0;34m\u001b[0m\u001b[0m\n\u001b[1;32m     70\u001b[0m \u001b[0;32mif\u001b[0m \u001b[0m__name__\u001b[0m \u001b[0;34m==\u001b[0m \u001b[0;34m\"__main__\"\u001b[0m\u001b[0;34m:\u001b[0m\u001b[0;34m\u001b[0m\u001b[0;34m\u001b[0m\u001b[0m\n\u001b[0;32m---> 71\u001b[0;31m     \u001b[0mmain\u001b[0m \u001b[0;34m(\u001b[0m\u001b[0;34m)\u001b[0m\u001b[0;34m\u001b[0m\u001b[0;34m\u001b[0m\u001b[0m\n\u001b[0m",
      "\u001b[0;32m/tmp/ipykernel_6019/625833170.py\u001b[0m in \u001b[0;36mmain\u001b[0;34m()\u001b[0m\n\u001b[1;32m     65\u001b[0m     \u001b[0mprint\u001b[0m\u001b[0;34m(\u001b[0m\u001b[0myL\u001b[0m\u001b[0;34m)\u001b[0m\u001b[0;34m\u001b[0m\u001b[0;34m\u001b[0m\u001b[0m\n\u001b[1;32m     66\u001b[0m     \u001b[0mprint\u001b[0m\u001b[0;34m(\u001b[0m\u001b[0mxN\u001b[0m\u001b[0;34m)\u001b[0m\u001b[0;34m\u001b[0m\u001b[0;34m\u001b[0m\u001b[0m\n\u001b[0;32m---> 67\u001b[0;31m     \u001b[0mplt\u001b[0m\u001b[0;34m.\u001b[0m\u001b[0mplot\u001b[0m\u001b[0;34m(\u001b[0m\u001b[0mxN\u001b[0m\u001b[0;34m,\u001b[0m\u001b[0myL\u001b[0m\u001b[0;34m,\u001b[0m\u001b[0mlistlike\u001b[0m\u001b[0;34m)\u001b[0m\u001b[0;31m# punti likelihood in funzione degli N punti del campione\u001b[0m\u001b[0;34m\u001b[0m\u001b[0;34m\u001b[0m\u001b[0m\n\u001b[0m\u001b[1;32m     68\u001b[0m \u001b[0;34m\u001b[0m\u001b[0m\n\u001b[1;32m     69\u001b[0m \u001b[0;34m\u001b[0m\u001b[0m\n",
      "\u001b[0;32m/usr/local/lib/python3.8/dist-packages/matplotlib/pyplot.py\u001b[0m in \u001b[0;36mplot\u001b[0;34m(scalex, scaley, data, *args, **kwargs)\u001b[0m\n\u001b[1;32m   3017\u001b[0m \u001b[0;34m@\u001b[0m\u001b[0m_copy_docstring_and_deprecators\u001b[0m\u001b[0;34m(\u001b[0m\u001b[0mAxes\u001b[0m\u001b[0;34m.\u001b[0m\u001b[0mplot\u001b[0m\u001b[0;34m)\u001b[0m\u001b[0;34m\u001b[0m\u001b[0;34m\u001b[0m\u001b[0m\n\u001b[1;32m   3018\u001b[0m \u001b[0;32mdef\u001b[0m \u001b[0mplot\u001b[0m\u001b[0;34m(\u001b[0m\u001b[0;34m*\u001b[0m\u001b[0margs\u001b[0m\u001b[0;34m,\u001b[0m \u001b[0mscalex\u001b[0m\u001b[0;34m=\u001b[0m\u001b[0;32mTrue\u001b[0m\u001b[0;34m,\u001b[0m \u001b[0mscaley\u001b[0m\u001b[0;34m=\u001b[0m\u001b[0;32mTrue\u001b[0m\u001b[0;34m,\u001b[0m \u001b[0mdata\u001b[0m\u001b[0;34m=\u001b[0m\u001b[0;32mNone\u001b[0m\u001b[0;34m,\u001b[0m \u001b[0;34m**\u001b[0m\u001b[0mkwargs\u001b[0m\u001b[0;34m)\u001b[0m\u001b[0;34m:\u001b[0m\u001b[0;34m\u001b[0m\u001b[0;34m\u001b[0m\u001b[0m\n\u001b[0;32m-> 3019\u001b[0;31m     return gca().plot(\n\u001b[0m\u001b[1;32m   3020\u001b[0m         \u001b[0;34m*\u001b[0m\u001b[0margs\u001b[0m\u001b[0;34m,\u001b[0m \u001b[0mscalex\u001b[0m\u001b[0;34m=\u001b[0m\u001b[0mscalex\u001b[0m\u001b[0;34m,\u001b[0m \u001b[0mscaley\u001b[0m\u001b[0;34m=\u001b[0m\u001b[0mscaley\u001b[0m\u001b[0;34m,\u001b[0m\u001b[0;34m\u001b[0m\u001b[0;34m\u001b[0m\u001b[0m\n\u001b[1;32m   3021\u001b[0m         **({\"data\": data} if data is not None else {}), **kwargs)\n",
      "\u001b[0;32m/usr/local/lib/python3.8/dist-packages/matplotlib/axes/_axes.py\u001b[0m in \u001b[0;36mplot\u001b[0;34m(self, scalex, scaley, data, *args, **kwargs)\u001b[0m\n\u001b[1;32m   1603\u001b[0m         \"\"\"\n\u001b[1;32m   1604\u001b[0m         \u001b[0mkwargs\u001b[0m \u001b[0;34m=\u001b[0m \u001b[0mcbook\u001b[0m\u001b[0;34m.\u001b[0m\u001b[0mnormalize_kwargs\u001b[0m\u001b[0;34m(\u001b[0m\u001b[0mkwargs\u001b[0m\u001b[0;34m,\u001b[0m \u001b[0mmlines\u001b[0m\u001b[0;34m.\u001b[0m\u001b[0mLine2D\u001b[0m\u001b[0;34m)\u001b[0m\u001b[0;34m\u001b[0m\u001b[0;34m\u001b[0m\u001b[0m\n\u001b[0;32m-> 1605\u001b[0;31m         \u001b[0mlines\u001b[0m \u001b[0;34m=\u001b[0m \u001b[0;34m[\u001b[0m\u001b[0;34m*\u001b[0m\u001b[0mself\u001b[0m\u001b[0;34m.\u001b[0m\u001b[0m_get_lines\u001b[0m\u001b[0;34m(\u001b[0m\u001b[0;34m*\u001b[0m\u001b[0margs\u001b[0m\u001b[0;34m,\u001b[0m \u001b[0mdata\u001b[0m\u001b[0;34m=\u001b[0m\u001b[0mdata\u001b[0m\u001b[0;34m,\u001b[0m \u001b[0;34m**\u001b[0m\u001b[0mkwargs\u001b[0m\u001b[0;34m)\u001b[0m\u001b[0;34m]\u001b[0m\u001b[0;34m\u001b[0m\u001b[0;34m\u001b[0m\u001b[0m\n\u001b[0m\u001b[1;32m   1606\u001b[0m         \u001b[0;32mfor\u001b[0m \u001b[0mline\u001b[0m \u001b[0;32min\u001b[0m \u001b[0mlines\u001b[0m\u001b[0;34m:\u001b[0m\u001b[0;34m\u001b[0m\u001b[0;34m\u001b[0m\u001b[0m\n\u001b[1;32m   1607\u001b[0m             \u001b[0mself\u001b[0m\u001b[0;34m.\u001b[0m\u001b[0madd_line\u001b[0m\u001b[0;34m(\u001b[0m\u001b[0mline\u001b[0m\u001b[0;34m)\u001b[0m\u001b[0;34m\u001b[0m\u001b[0;34m\u001b[0m\u001b[0m\n",
      "\u001b[0;32m/usr/local/lib/python3.8/dist-packages/matplotlib/axes/_base.py\u001b[0m in \u001b[0;36m__call__\u001b[0;34m(self, data, *args, **kwargs)\u001b[0m\n\u001b[1;32m    313\u001b[0m                 \u001b[0mthis\u001b[0m \u001b[0;34m+=\u001b[0m \u001b[0margs\u001b[0m\u001b[0;34m[\u001b[0m\u001b[0;36m0\u001b[0m\u001b[0;34m]\u001b[0m\u001b[0;34m,\u001b[0m\u001b[0;34m\u001b[0m\u001b[0;34m\u001b[0m\u001b[0m\n\u001b[1;32m    314\u001b[0m                 \u001b[0margs\u001b[0m \u001b[0;34m=\u001b[0m \u001b[0margs\u001b[0m\u001b[0;34m[\u001b[0m\u001b[0;36m1\u001b[0m\u001b[0;34m:\u001b[0m\u001b[0;34m]\u001b[0m\u001b[0;34m\u001b[0m\u001b[0;34m\u001b[0m\u001b[0m\n\u001b[0;32m--> 315\u001b[0;31m             \u001b[0;32myield\u001b[0m \u001b[0;32mfrom\u001b[0m \u001b[0mself\u001b[0m\u001b[0;34m.\u001b[0m\u001b[0m_plot_args\u001b[0m\u001b[0;34m(\u001b[0m\u001b[0mthis\u001b[0m\u001b[0;34m,\u001b[0m \u001b[0mkwargs\u001b[0m\u001b[0;34m)\u001b[0m\u001b[0;34m\u001b[0m\u001b[0;34m\u001b[0m\u001b[0m\n\u001b[0m\u001b[1;32m    316\u001b[0m \u001b[0;34m\u001b[0m\u001b[0m\n\u001b[1;32m    317\u001b[0m     \u001b[0;32mdef\u001b[0m \u001b[0mget_next_color\u001b[0m\u001b[0;34m(\u001b[0m\u001b[0mself\u001b[0m\u001b[0;34m)\u001b[0m\u001b[0;34m:\u001b[0m\u001b[0;34m\u001b[0m\u001b[0;34m\u001b[0m\u001b[0m\n",
      "\u001b[0;32m/usr/local/lib/python3.8/dist-packages/matplotlib/axes/_base.py\u001b[0m in \u001b[0;36m_plot_args\u001b[0;34m(self, tup, kwargs, return_kwargs)\u001b[0m\n\u001b[1;32m    499\u001b[0m \u001b[0;34m\u001b[0m\u001b[0m\n\u001b[1;32m    500\u001b[0m         \u001b[0;32mif\u001b[0m \u001b[0mx\u001b[0m\u001b[0;34m.\u001b[0m\u001b[0mshape\u001b[0m\u001b[0;34m[\u001b[0m\u001b[0;36m0\u001b[0m\u001b[0;34m]\u001b[0m \u001b[0;34m!=\u001b[0m \u001b[0my\u001b[0m\u001b[0;34m.\u001b[0m\u001b[0mshape\u001b[0m\u001b[0;34m[\u001b[0m\u001b[0;36m0\u001b[0m\u001b[0;34m]\u001b[0m\u001b[0;34m:\u001b[0m\u001b[0;34m\u001b[0m\u001b[0;34m\u001b[0m\u001b[0m\n\u001b[0;32m--> 501\u001b[0;31m             raise ValueError(f\"x and y must have same first dimension, but \"\n\u001b[0m\u001b[1;32m    502\u001b[0m                              f\"have shapes {x.shape} and {y.shape}\")\n\u001b[1;32m    503\u001b[0m         \u001b[0;32mif\u001b[0m \u001b[0mx\u001b[0m\u001b[0;34m.\u001b[0m\u001b[0mndim\u001b[0m \u001b[0;34m>\u001b[0m \u001b[0;36m2\u001b[0m \u001b[0;32mor\u001b[0m \u001b[0my\u001b[0m\u001b[0;34m.\u001b[0m\u001b[0mndim\u001b[0m \u001b[0;34m>\u001b[0m \u001b[0;36m2\u001b[0m\u001b[0;34m:\u001b[0m\u001b[0;34m\u001b[0m\u001b[0;34m\u001b[0m\u001b[0m\n",
      "\u001b[0;31mValueError\u001b[0m: x and y must have same first dimension, but have shapes (1,) and (0,)"
     ]
    },
    {
     "data": {
      "image/png": "[encoded data removed]",
      "text/plain": [
       "<Figure size 432x288 with 1 Axes>"
      ]
     },
     "metadata": {
      "needs_background": "light"
     },
     "output_type": "display_data"
    }
   ],
   "source": [
    "import numpy as np\n",
    "from myrand import generate_uniform, generate_range\n",
    "import matplotlib.pyplot as plt\n",
    "\n",
    "def exp_pdf (x, tau) :      \n",
    "    '''\n",
    "    the exponential probability density function\n",
    "    '''\n",
    "    if tau == 0. : print(\"\")\n",
    "    #if x < 0. : return 0.   #essendo un esponenziale proteggiamo la funzione da eventuali infiniti\n",
    "    return np.exp (-1 * x / tau) / tau #voglio che restituisca un array MODIFICO exp in un Array\n",
    "\n",
    "def loglikelihood (theta, pdf, sample) :\n",
    "    '''\n",
    "    the log-likelihood function calculated\n",
    "    for a sample of independent variables idendically distributed \n",
    "    according to their pdf with parameter theta\n",
    "    '''\n",
    "    logL = 0.\n",
    "    for x in sample:\n",
    "        if (pdf (x, theta) > 0.) : logL = logL + np.log (pdf (x, theta))    \n",
    "    return logL\n",
    "\n",
    "\n",
    "\n",
    "\n",
    "def main():\n",
    "    \n",
    "    list1= np.array(generate_range(0,1,100)) \n",
    "    \n",
    "    z=inv_exp(list1, 5)\n",
    "    c=loglikelihood(5, exp_pdf, z)\n",
    "    print(c) #mi aspetto che essendo una sommatoria resituisca un valore.\n",
    "    \n",
    "\n",
    "        \n",
    "    \n",
    "#es6:Study the behavior of \n",
    "#the SHAPE (plot-it!) of the log-likelihood as a FUNCTION OF THE NUMBER OF EVENTS COMPRISING THE GENERATED SAMPLE\n",
    "\n",
    "#ora lasciamo da parte il variare di t0 e consideriamo il variare del numero di eventi per un t0 fissato.\n",
    "#capiamo quanto varia la funzione likelihood al variare di N numero di eventi in un grafico\n",
    "\n",
    "    print(\"\\n\")\n",
    "    t0=0.5\n",
    "    N=100\n",
    "    \n",
    "    yL=[]\n",
    "    xN=[]\n",
    "    listlike=[]\n",
    "    for i in range(1,10):\n",
    "        N=N+50\n",
    "        list1= np.array(generate_range(0.1,10,N))\n",
    "        \n",
    "        for t0 in range(1,5):\n",
    "            t0=1\n",
    "            t0=t0+0.5\n",
    "            c=loglikelihood(t0, exp_pdf, z)\n",
    "            listlike.append(c)\n",
    "            \n",
    "            \n",
    "    \n",
    "    xN.append(N)\n",
    "        \n",
    "    print(yL)\n",
    "    print(xN)\n",
    "    plt.plot(xN,yL,listlike)# punti likelihood in funzione degli N punti del campione\n",
    "        \n",
    "        \n",
    "if __name__ == \"__main__\":\n",
    "    main ()"
   ]
  },
  {
   "cell_type": "code",
   "execution_count": null,
   "metadata": {},
   "outputs": [],
   "source": []
  }
 ],
 "metadata": {
  "kernelspec": {
   "display_name": "Python 3 (ipykernel)",
   "language": "python",
   "name": "python3"
  },
  "language_info": {
   "codemirror_mode": {
    "name": "ipython",
    "version": 3
   },
   "file_extension": ".py",
   "mimetype": "text/x-python",
   "name": "python",
   "nbconvert_exporter": "python",
   "pygments_lexer": "ipython3",
   "version": "3.8.10"
  }
 },
 "nbformat": 4,
 "nbformat_minor": 4
}
